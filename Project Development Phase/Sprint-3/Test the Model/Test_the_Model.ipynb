{
  "nbformat": 4,
  "nbformat_minor": 0,
  "metadata": {
    "colab": {
      "provenance": []
    },
    "kernelspec": {
      "name": "python3",
      "display_name": "Python 3"
    },
    "language_info": {
      "name": "python"
    }
  },
  "cells": [
    {
      "cell_type": "markdown",
      "source": [
        "**ImageDataGenerator**"
      ],
      "metadata": {
        "id": "r3qSczF1QOlS"
      }
    },
    {
      "cell_type": "code",
      "source": [
        "from google.colab import drive\n",
        "drive.mount('/content/drive')"
      ],
      "metadata": {
        "colab": {
          "base_uri": "https://localhost:8080/"
        },
        "id": "4T1idFWFNwi0",
        "outputId": "fadd83ff-eb23-4bcf-cab4-ec08dc9a8ca2"
      },
      "execution_count": null,
      "outputs": [
        {
          "output_type": "stream",
          "name": "stdout",
          "text": [
            "Drive already mounted at /content/drive; to attempt to forcibly remount, call drive.mount(\"/content/drive\", force_remount=True).\n"
          ]
        }
      ]
    },
    {
      "cell_type": "code",
      "execution_count": null,
      "metadata": {
        "id": "-AQe4OBOMQKo"
      },
      "outputs": [],
      "source": [
        "from keras.preprocessing.image import ImageDataGenerator\n",
        "train_datagen=ImageDataGenerator(rescale=1./255,shear_range=0.2,zoom_range=0.2,horizontal_flip=True)\n",
        "test_datagen=ImageDataGenerator(rescale=1./255)"
      ]
    },
    {
      "cell_type": "code",
      "source": [
        "train='/content/drive/MyDrive/Data Set/training_set'\n",
        "test='/content/drive/MyDrive/Data Set/test_set'"
      ],
      "metadata": {
        "id": "PdmWJhRrMjXb"
      },
      "execution_count": null,
      "outputs": []
    },
    {
      "cell_type": "code",
      "source": [
        "x_train = train_datagen.flow_from_directory(train, target_size=(64,64), batch_size=300,\n",
        "                                            class_mode=\"categorical\", color_mode = \"grayscale\")"
      ],
      "metadata": {
        "id": "cnCKBWeUMjdp",
        "colab": {
          "base_uri": "https://localhost:8080/"
        },
        "outputId": "91f9fc0f-a636-4fd1-9dcb-2fad8111c98d"
      },
      "execution_count": null,
      "outputs": [
        {
          "output_type": "stream",
          "name": "stdout",
          "text": [
            "Found 15130 images belonging to 9 classes.\n"
          ]
        }
      ]
    },
    {
      "cell_type": "code",
      "source": [
        "x_test = test_datagen.flow_from_directory(test, target_size=(64,64), batch_size=300, class_mode=\"categorical\", color_mode = \"grayscale\")"
      ],
      "metadata": {
        "id": "YtjJNZnvMjhC",
        "colab": {
          "base_uri": "https://localhost:8080/"
        },
        "outputId": "d82ee3f6-c399-4d58-b611-24ebf938a066"
      },
      "execution_count": null,
      "outputs": [
        {
          "output_type": "stream",
          "name": "stdout",
          "text": [
            "Found 2250 images belonging to 9 classes.\n"
          ]
        }
      ]
    },
    {
      "cell_type": "markdown",
      "source": [
        "**Import Modules**"
      ],
      "metadata": {
        "id": "swtGPVN7QdGg"
      }
    },
    {
      "cell_type": "code",
      "source": [
        "from keras.models import Sequential\n",
        "from keras.layers import Dense\n",
        "from keras.layers import Convolution2D\n",
        "from keras.layers import MaxPooling2D\n",
        "from keras.layers import Dropout\n",
        "from keras.layers import Flatten"
      ],
      "metadata": {
        "id": "br5ZWm6CMjkh"
      },
      "execution_count": null,
      "outputs": []
    },
    {
      "cell_type": "markdown",
      "source": [
        "**Initialize model**"
      ],
      "metadata": {
        "id": "0H8udX4CRoOy"
      }
    },
    {
      "cell_type": "code",
      "source": [
        "model = Sequential()"
      ],
      "metadata": {
        "id": "_ssNbJFlMjna"
      },
      "execution_count": null,
      "outputs": []
    },
    {
      "cell_type": "markdown",
      "source": [
        "**Convolution** **Layer**"
      ],
      "metadata": {
        "id": "gVNhI8h5RsgB"
      }
    },
    {
      "cell_type": "code",
      "source": [
        "model.add(Convolution2D(32,(3,3),input_shape=(64,64,1), activation='relu'))\n",
        "#no. of feature detectors, size of feature detector, image size, activation function"
      ],
      "metadata": {
        "id": "Bg7q4c9ZMjry"
      },
      "execution_count": null,
      "outputs": []
    },
    {
      "cell_type": "markdown",
      "source": [
        "**Add The Pooling Layer**"
      ],
      "metadata": {
        "id": "B7xzVKF-RxTT"
      }
    },
    {
      "cell_type": "code",
      "source": [
        "model.add(MaxPooling2D(pool_size=(2,2)))"
      ],
      "metadata": {
        "id": "izxJ2c8VMjw0"
      },
      "execution_count": null,
      "outputs": []
    },
    {
      "cell_type": "markdown",
      "source": [
        "**Add The Flatten Layer**"
      ],
      "metadata": {
        "id": "XHd0pTrER2Ui"
      }
    },
    {
      "cell_type": "code",
      "source": [
        "model.add(Flatten())"
      ],
      "metadata": {
        "id": "m1APaT_mMjzy"
      },
      "execution_count": null,
      "outputs": []
    },
    {
      "cell_type": "markdown",
      "source": [
        "**Adding The Dense Layers**"
      ],
      "metadata": {
        "id": "ZOucDHHQUIS-"
      }
    },
    {
      "cell_type": "code",
      "source": [
        "model.add(Dense(units=512, activation='relu')) #Adding_The_Dense_Layers"
      ],
      "metadata": {
        "id": "JbcBOmxdMj4R"
      },
      "execution_count": null,
      "outputs": []
    },
    {
      "cell_type": "code",
      "source": [
        "model.add(Dense(units=9,activation='softmax'))#Adding_The_Pooling_Layer"
      ],
      "metadata": {
        "id": "WaRnsWAeMj7q"
      },
      "execution_count": null,
      "outputs": []
    },
    {
      "cell_type": "markdown",
      "source": [
        "**Compile The Model**"
      ],
      "metadata": {
        "id": "1pFpL-SVUQee"
      }
    },
    {
      "cell_type": "code",
      "source": [
        "model.compile(loss=\"categorical_crossentropy\",optimizer=\"adam\",metrics=[\"accuracy\"])"
      ],
      "metadata": {
        "id": "PpuPzYTwNI1i"
      },
      "execution_count": null,
      "outputs": []
    },
    {
      "cell_type": "code",
      "source": [
        "model.summary()"
      ],
      "metadata": {
        "id": "u_3PL1sGNI4x",
        "colab": {
          "base_uri": "https://localhost:8080/"
        },
        "outputId": "27c82aa3-8431-4d6c-85b2-3f87dbb315e7"
      },
      "execution_count": null,
      "outputs": [
        {
          "output_type": "stream",
          "name": "stdout",
          "text": [
            "Model: \"sequential\"\n",
            "_________________________________________________________________\n",
            " Layer (type)                Output Shape              Param #   \n",
            "=================================================================\n",
            " conv2d (Conv2D)             (None, 62, 62, 32)        320       \n",
            "                                                                 \n",
            " max_pooling2d (MaxPooling2D  (None, 31, 31, 32)       0         \n",
            " )                                                               \n",
            "                                                                 \n",
            " flatten (Flatten)           (None, 30752)             0         \n",
            "                                                                 \n",
            " dense (Dense)               (None, 512)               15745536  \n",
            "                                                                 \n",
            " dense_1 (Dense)             (None, 9)                 4617      \n",
            "                                                                 \n",
            "=================================================================\n",
            "Total params: 15,750,473\n",
            "Trainable params: 15,750,473\n",
            "Non-trainable params: 0\n",
            "_________________________________________________________________\n"
          ]
        }
      ]
    },
    {
      "cell_type": "markdown",
      "source": [
        "**Fit And Save The Model**"
      ],
      "metadata": {
        "id": "cpwz4Ls-UWWd"
      }
    },
    {
      "cell_type": "code",
      "source": [
        "model.fit_generator(x_train,steps_per_epoch=24,epochs=10,validation_data=x_test,validation_steps=40 )"
      ],
      "metadata": {
        "id": "PjZCzfJdNI7y",
        "colab": {
          "base_uri": "https://localhost:8080/"
        },
        "outputId": "5e0b9c91-54d9-4160-a14b-68a9ef999a6c"
      },
      "execution_count": null,
      "outputs": [
        {
          "output_type": "stream",
          "name": "stderr",
          "text": [
            "/usr/local/lib/python3.7/dist-packages/ipykernel_launcher.py:1: UserWarning: `Model.fit_generator` is deprecated and will be removed in a future version. Please use `Model.fit`, which supports generators.\n",
            "  \"\"\"Entry point for launching an IPython kernel.\n"
          ]
        },
        {
          "output_type": "stream",
          "name": "stdout",
          "text": [
            "Epoch 1/10\n",
            "24/24 [==============================] - ETA: 0s - loss: 0.0080 - accuracy: 0.9982"
          ]
        },
        {
          "output_type": "stream",
          "name": "stderr",
          "text": [
            "WARNING:tensorflow:Your input ran out of data; interrupting training. Make sure that your dataset or generator can generate at least `steps_per_epoch * epochs` batches (in this case, 40 batches). You may need to use the repeat() function when building your dataset.\n"
          ]
        },
        {
          "output_type": "stream",
          "name": "stdout",
          "text": [
            "\b\b\b\b\b\b\b\b\b\b\b\b\b\b\b\b\b\b\b\b\b\b\b\b\b\b\b\b\b\b\b\b\b\b\b\b\b\b\b\b\b\b\b\b\b\b\b\b\b\b\b\b\b\b\b\b\b\b\b\b\b\b\b\b\b\b\b\b\b\b\b\b\b\b\b\b\b\b\b\b\b\b\r24/24 [==============================] - 47s 2s/step - loss: 0.0080 - accuracy: 0.9982 - val_loss: 0.2387 - val_accuracy: 0.9764\n",
            "Epoch 2/10\n",
            "24/24 [==============================] - 39s 2s/step - loss: 0.0116 - accuracy: 0.9963\n",
            "Epoch 3/10\n",
            "24/24 [==============================] - 37s 2s/step - loss: 0.0091 - accuracy: 0.9981\n",
            "Epoch 4/10\n",
            "24/24 [==============================] - 39s 2s/step - loss: 0.0061 - accuracy: 0.9990\n",
            "Epoch 5/10\n",
            "24/24 [==============================] - 37s 1s/step - loss: 0.0044 - accuracy: 0.9993\n",
            "Epoch 6/10\n",
            "24/24 [==============================] - 39s 2s/step - loss: 0.0040 - accuracy: 0.9996\n",
            "Epoch 7/10\n",
            "24/24 [==============================] - 37s 2s/step - loss: 0.0075 - accuracy: 0.9978\n",
            "Epoch 8/10\n",
            "24/24 [==============================] - 42s 2s/step - loss: 0.0040 - accuracy: 0.9986\n",
            "Epoch 9/10\n",
            "24/24 [==============================] - 39s 2s/step - loss: 0.0054 - accuracy: 0.9989\n",
            "Epoch 10/10\n",
            "24/24 [==============================] - 37s 2s/step - loss: 0.0021 - accuracy: 0.9994\n"
          ]
        },
        {
          "output_type": "execute_result",
          "data": {
            "text/plain": [
              "<keras.callbacks.History at 0x7f9bb491cbd0>"
            ]
          },
          "metadata": {},
          "execution_count": 16
        }
      ]
    },
    {
      "cell_type": "code",
      "source": [
        "model.save(\"IBM.h5\")"
      ],
      "metadata": {
        "id": "Q84hn3j0NI-p"
      },
      "execution_count": null,
      "outputs": []
    },
    {
      "cell_type": "markdown",
      "source": [
        "**Import The Packages And Load The Saved Model**"
      ],
      "metadata": {
        "id": "r7rWKyhrUbvl"
      }
    },
    {
      "cell_type": "code",
      "source": [
        "from keras.models import load_model\n",
        "import cv2 , numpy as np"
      ],
      "metadata": {
        "id": "D6s3fpEXNJD6"
      },
      "execution_count": null,
      "outputs": []
    },
    {
      "cell_type": "code",
      "source": [
        "model=load_model(r'/content/drive/MyDrive/conversation engine for deaf and dumb/asl_model.h5')"
      ],
      "metadata": {
        "id": "XgzgjtxPNJLo"
      },
      "execution_count": 25,
      "outputs": []
    },
    {
      "cell_type": "markdown",
      "source": [
        "**Load The Test Image, Pre-Process It And Predict**"
      ],
      "metadata": {
        "id": "BYxycW8YUhg2"
      }
    },
    {
      "cell_type": "code",
      "source": [
        "from skimage.transform import resize\n",
        "from tensorflow.keras.preprocessing import image\n",
        "op=['A','B','C','D','E','F','G','H','I']\n",
        "def detect(frame):\n",
        "    img=resize(frame,(64,64,1))\n",
        "    img=image.img_to_array(img)\n",
        "    img=np.expand_dims(img, axis=0)\n",
        "    if(np.max(img)>1):\n",
        "        img=img/255.0\n",
        "    prediction=model.predict(img)\n",
        "    \n",
        "    prediction=model.predict_classes(img)\n",
        "    print(\"The Letter is \"+ op[prediction[0]])"
      ],
      "metadata": {
        "id": "GmQ8V2ZZNJPL"
      },
      "execution_count": null,
      "outputs": []
    },
    {
      "cell_type": "code",
      "source": [
        "frame=cv2.imread(r\"/content/drive/MyDrive/Data Set/training_set/B/1000.png\")\n",
        "image.load_img(r\"/content/drive/MyDrive/Data Set/training_set/B/1004.png\")"
      ],
      "metadata": {
        "id": "9w1709_GNqJ6",
        "colab": {
          "base_uri": "https://localhost:8080/",
          "height": 81
        },
        "outputId": "77e4bb34-783a-4f80-9583-851e3d2d1adc"
      },
      "execution_count": null,
      "outputs": [
        {
          "output_type": "execute_result",
          "data": {
            "text/plain": [
              "<PIL.Image.Image image mode=RGB size=64x64 at 0x7F68EB434690>"
            ],
            "image/png": "[encoded data removed]"
          },
          "metadata": {},
          "execution_count": 4
        }
      ]
    }
  ]
}