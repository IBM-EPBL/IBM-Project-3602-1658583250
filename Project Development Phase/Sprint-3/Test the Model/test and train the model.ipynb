{
  "nbformat": 4,
  "nbformat_minor": 0,
  "metadata": {
    "colab": {
      "provenance": []
    },
    "kernelspec": {
      "name": "python3",
      "display_name": "Python 3"
    },
    "language_info": {
      "name": "python"
    }
  },
  "cells": [
    {
      "cell_type": "code",
      "execution_count": 2,
      "metadata": {
        "id": "3kAb0icX--qf"
      },
      "outputs": [],
      "source": [
        "from keras.preprocessing.image import ImageDataGenerator\n",
        "train_datagen=ImageDataGenerator(rescale=1./255,shear_range=0.2,zoom_range=0.2,horizontal_flip=True)\n",
        "test_datagen=ImageDataGenerator(rescale=1./255)"
      ]
    },
    {
      "cell_type": "code",
      "source": [
        "train='E:\\Team Lead\\conversation engine for deaf and dumb\\Dataset\\\\training_set'\n",
        "test='E:\\Team Lead\\conversation engine for deaf and dumb\\Dataset\\\\test_set'"
      ],
      "metadata": {
        "id": "5T5PDiNE_Ble"
      },
      "execution_count": null,
      "outputs": []
    },
    {
      "cell_type": "code",
      "source": [
        "x_train = train_datagen.flow_from_directory(train, target_size=(64,64), batch_size=300,\n",
        "                                            class_mode=\"categorical\", color_mode = \"grayscale\")"
      ],
      "metadata": {
        "id": "FrQOr8Z3_Mw3"
      },
      "execution_count": null,
      "outputs": []
    },
    {
      "cell_type": "markdown",
      "source": [
        "Found 15750 images belonging to 9 classes."
      ],
      "metadata": {
        "id": "PXUO3B1b_TOc"
      }
    },
    {
      "cell_type": "markdown",
      "source": [
        "# **Import** **Modules**"
      ],
      "metadata": {
        "id": "bnIcbWYD_Y7r"
      }
    },
    {
      "cell_type": "markdown",
      "source": [],
      "metadata": {
        "id": "oVrJUL3xBFBS"
      }
    },
    {
      "cell_type": "code",
      "source": [
        "from keras.models import Sequential\n",
        "from keras.layers import Dense\n",
        "from keras.layers import Convolution2D\n",
        "from keras.layers import MaxPooling2D\n",
        "from keras.layers import Dropout\n",
        "from keras.layers import Flatten"
      ],
      "metadata": {
        "id": "8r8AxNr5_VCT"
      },
      "execution_count": null,
      "outputs": []
    },
    {
      "cell_type": "markdown",
      "source": [
        "# **Initialize** **model**"
      ],
      "metadata": {
        "id": "M5iX42OY_mYT"
      }
    },
    {
      "cell_type": "code",
      "source": [
        "model = Sequential()"
      ],
      "metadata": {
        "id": "tZ7aEFRB_PpZ"
      },
      "execution_count": null,
      "outputs": []
    },
    {
      "cell_type": "markdown",
      "source": [
        "# **Convolution Layer**"
      ],
      "metadata": {
        "id": "A3OWixvo_rMM"
      }
    },
    {
      "cell_type": "code",
      "source": [
        "model.add(Convolution2D(32,(3,3),input_shape=(64,64,1), activation='relu'))\n",
        "#no. of feature detectors, size of feature detector, image size, activation function"
      ],
      "metadata": {
        "id": "aKUNBQF-_w85"
      },
      "execution_count": null,
      "outputs": []
    },
    {
      "cell_type": "markdown",
      "source": [
        "# **Add** **The** **Pooling** **Layer**"
      ],
      "metadata": {
        "id": "z1kmwdrz_0DO"
      }
    },
    {
      "cell_type": "code",
      "source": [
        "model.add(MaxPooling2D(pool_size=(2,2)))"
      ],
      "metadata": {
        "id": "BFj54sgw_7RT"
      },
      "execution_count": null,
      "outputs": []
    },
    {
      "cell_type": "markdown",
      "source": [
        "# **Add the** **bold text**  **Flatten** **Layer** "
      ],
      "metadata": {
        "id": "FmjOjPdF_97n"
      }
    },
    {
      "cell_type": "code",
      "source": [
        "model.add(Flatten())"
      ],
      "metadata": {
        "id": "EXnxSyu-APcV"
      },
      "execution_count": null,
      "outputs": []
    },
    {
      "cell_type": "markdown",
      "source": [
        "# **Adding The Dense Layers**"
      ],
      "metadata": {
        "id": "W7sEO8gVAfFU"
      }
    },
    {
      "cell_type": "code",
      "source": [
        "model.add(Dense(units=512, activation='relu')) #Adding_The_Dense_Layers"
      ],
      "metadata": {
        "id": "PCv6ImSmAiJo"
      },
      "execution_count": null,
      "outputs": []
    },
    {
      "cell_type": "code",
      "source": [
        "model.add(Dense(units=9,activation='softmax'))#Adding_The_Pooling_Layer"
      ],
      "metadata": {
        "id": "wGxKbYuPAlSw"
      },
      "execution_count": null,
      "outputs": []
    },
    {
      "cell_type": "markdown",
      "source": [
        "# **Compile The Model**"
      ],
      "metadata": {
        "id": "Kl2hKX_jAn1l"
      }
    },
    {
      "cell_type": "code",
      "source": [
        "model.compile(loss=\"categorical_crossentropy\",optimizer=\"adam\",metrics=[\"accuracy\"])"
      ],
      "metadata": {
        "id": "TZ0cpECvArd3"
      },
      "execution_count": null,
      "outputs": []
    },
    {
      "cell_type": "code",
      "source": [
        "model.summary()"
      ],
      "metadata": {
        "id": "3utDhR7HAySY"
      },
      "execution_count": null,
      "outputs": []
    },
    {
      "cell_type": "markdown",
      "source": [
        "# **Fit And Save The** **Model**\n",
        "\n"
      ],
      "metadata": {
        "id": "C1ng_khkBLP-"
      }
    },
    {
      "cell_type": "code",
      "source": [
        "model.fit_generator(x_train,steps_per_epoch=24,epochs=10,validation_data=x_test,validation_steps=40 )"
      ],
      "metadata": {
        "id": "aH2U77udBI8w"
      },
      "execution_count": null,
      "outputs": []
    },
    {
      "cell_type": "code",
      "source": [
        "model.save(\"IBM.h5\")"
      ],
      "metadata": {
        "id": "3LVhMhHUBSpn"
      },
      "execution_count": null,
      "outputs": []
    },
    {
      "cell_type": "code",
      "source": [
        "from keras.models import load_model\n",
        "import cv2 , numpy as np"
      ],
      "metadata": {
        "id": "Ph6BOTl0BU6H"
      },
      "execution_count": null,
      "outputs": []
    },
    {
      "cell_type": "code",
      "source": [
        "model=load_model(r'E:\\Team Lead\\conversation engine for deaf and dumb\\Tensorflow\\IBM.h5')"
      ],
      "metadata": {
        "id": "HwaMiCzcBXDz"
      },
      "execution_count": null,
      "outputs": []
    },
    {
      "cell_type": "code",
      "source": [
        "from skimage.transform import resize\n",
        "from tensorflow.keras.preprocessing import image\n",
        "op=['A','B','C','D','E','F','G','H','I']\n",
        "def detect(frame):\n",
        "    img=resize(frame,(64,64,1))\n",
        "    img=image.img_to_array(img)\n",
        "    img=np.expand_dims(img, axis=0)\n",
        "    if(np.max(img)>1):\n",
        "        img=img/255.0\n",
        "    prediction=model.predict(img)\n",
        "    \n",
        "    prediction=model.predict_classes(img)\n",
        "    print(\"The Letter is \"+ op[prediction[0]])"
      ],
      "metadata": {
        "id": "UxUxsbFfBZya"
      },
      "execution_count": null,
      "outputs": []
    },
    {
      "cell_type": "code",
      "source": [
        "frame=cv2.imread(r\"E:\\Team Lead\\conversation engine for deaf and dumb\\Dataset\\training_set\\B\\1.png\")\n",
        "image.load_img(r\"E:\\Team Lead\\conversation engine for deaf and dumb\\Dataset\\training_set\\B\\1.png\")"
      ],
      "metadata": {
        "id": "zlt7Q0VSBb1x"
      },
      "execution_count": null,
      "outputs": []
    },
    {
      "cell_type": "code",
      "source": [
        "data=detect(frame)"
      ],
      "metadata": {
        "id": "mpV9lAFuBegg"
      },
      "execution_count": null,
      "outputs": []
    }
  ]
}